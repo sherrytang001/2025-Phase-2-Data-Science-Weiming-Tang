{
 "cells": [
  {
   "cell_type": "markdown",
   "id": "2249078461bec40c",
   "metadata": {
    "collapsed": false,
    "jupyter": {
     "outputs_hidden": false
    }
   },
   "source": [
    "## Step 0. Folder Structure\n",
    "```\n",
    "3. Deep Learning Project/\n",
    "├── dataset_split/\n",
    "│   ├── train/\n",
    "│   │   ├── african_elephant (780 images)\n",
    "│   │   ├── airliner (780 images)\n",
    "│   │   └── ... (8 more folders)\n",
    "│   ├── val/\n",
    "│   │   ├── african_elephant (260 images)\n",
    "│   │   ├── airliner (260 images)\n",
    "│   │   └── ... (8 more folders)\n",
    "│   └── test (2600 images)\n",
    "├── data_preprocessed/\n",
    "│   ├── labels_train.pt\n",
    "│   ├── labels_val.pt\n",
    "│   ├── tensor_test.pt\n",
    "│   ├── tensor_train.pt\n",
    "│   └── tensor_val.pt\n",
    "├── models/\n",
    "│   ├── resnet18_checkpoint.pkl\n",
    "│   └── resnet34_checkpoint.pkl\n",
    "├── src/\n",
    "│   └── part3.ipynb\n",
    "├── src_datasplit/\n",
    "│   └── data_split.ipynb\n",
    "├── MSA.yaml\n",
    "├── README.md\n",
    "└── IEEE_Report_Template.docx\n",
    "```\n"
   ]
  },
  {
   "cell_type": "code",
   "execution_count": 1,
   "id": "feff9f82a794ed57",
   "metadata": {
    "ExecuteTime": {
     "end_time": "2025-05-10T03:43:05.563885Z",
     "start_time": "2025-05-10T03:43:05.550616Z"
    },
    "collapsed": false,
    "jupyter": {
     "outputs_hidden": false
    }
   },
   "outputs": [],
   "source": [
    "# TODO: Import the libraries.\n",
    "from typing import Tuple, List\n",
    "import os\n",
    "import cv2\n",
    "from tqdm import tqdm\n",
    "import numpy as np\n",
    "import torch\n",
    "import torchvision\n",
    "import torch.nn as nn\n",
    "import torch.nn.functional as F\n",
    "from collections import OrderedDict\n",
    "import copy\n",
    "import matplotlib.pyplot as plt\n",
    "import csv"
   ]
  },
  {
   "cell_type": "markdown",
   "id": "129404feccd45358",
   "metadata": {
    "collapsed": false,
    "jupyter": {
     "outputs_hidden": false
    }
   },
   "source": [
    "## Step 1 Preprocessing\n",
    "1. Load images and labels from folders into lists.\n",
    "2. Resize the images.\n",
    "3. Convert the image data type as float32 and limit the range in [0, 1].\n",
    "4. Convert data from NHWC to NCHW and creat a PyTorch tensor from it.\n",
    "5. Per-channel standardization of the dataset using training set statistics (mean and std computed independently for each color channel).\n",
    "6. Saving the pre-processed sets as .pt files in the correct directory.\n",
    "7. Load the pre-processed sets from .pt files. "
   ]
  },
  {
   "cell_type": "code",
   "execution_count": 2,
   "id": "5852557c-59f2-4ec1-b55d-5fa896dd6107",
   "metadata": {},
   "outputs": [],
   "source": [
    "# TODO: 1. Load images from folder into a list.\n",
    "def image_loader(set_dir: str) -> Tuple[List[np.ndarray], List[str]]:\n",
    "    \"\"\"\n",
    "    Load all images from a dataset directory (train/val/test) into memory.\n",
    "    \n",
    "    Parameters:\n",
    "    -----------\n",
    "    set_dir : str\n",
    "        Path to the directory containing either:\n",
    "        - Class subdirectories (for train/val sets)\n",
    "        - Direct image files (for test set)\n",
    "        \n",
    "    Returns:\n",
    "    --------\n",
    "    Tuple[List[np.ndarray], List[str]]\n",
    "        images: List of BGR images (HWC format, uint8 dtype)\n",
    "        labels: List of string labels (empty for test set)\n",
    "    \"\"\"\n",
    "    images = []\n",
    "    labels = []\n",
    "\n",
    "    # Check if this is a test set (images directly inside the folder)\n",
    "    subdirs = [d for d in os.listdir(set_dir) if os.path.isdir(os.path.join(set_dir, d))]\n",
    "    \n",
    "    if len(subdirs) == 0:\n",
    "        # Test set: load files in filename order\n",
    "        for fname in sorted(os.listdir(set_dir), key=lambda x: int(os.path.splitext(x)[0])):\n",
    "            img_path = os.path.join(set_dir, fname)\n",
    "            img = cv2.imread(img_path)\n",
    "            if img is not None:\n",
    "                images.append(img)\n",
    "        labels = []  # no labels for test set\n",
    "\n",
    "    else:\n",
    "        # Train/val set: subdirectories = class names\n",
    "        for label in sorted(subdirs):\n",
    "            class_path = os.path.join(set_dir, label)\n",
    "            for fname in os.listdir(class_path):\n",
    "                img_path = os.path.join(class_path, fname)\n",
    "                img = cv2.imread(img_path)\n",
    "                if img is not None:\n",
    "                    images.append(img)\n",
    "                    labels.append(label)\n",
    "\n",
    "    return images, labels\n"
   ]
  },
  {
   "cell_type": "code",
   "execution_count": 3,
   "id": "d0cb9a1f-e621-4459-9f4d-d540312eaa6e",
   "metadata": {},
   "outputs": [],
   "source": [
    "# TODO: 2. Resize images.\n",
    "def img_resize(images: List[np.ndarray], target_size: int = 224) -> np.ndarray:\n",
    "    if len(images) == 0:\n",
    "        return np.array([])\n",
    "\n",
    "    processed_images = []\n",
    "    skipped_count = 0\n",
    "\n",
    "    for img in images:\n",
    "        if img is None or len(img.shape) != 3 or img.shape[2] != 3:\n",
    "            skipped_count += 1\n",
    "            continue\n",
    "\n",
    "        h, w = img.shape[:2]\n",
    "        scale = target_size / min(h, w)\n",
    "        new_w, new_h = int(w * scale), int(h * scale)\n",
    "\n",
    "        resized = cv2.resize(img, (new_w, new_h))\n",
    "        start_x = (new_w - target_size) // 2\n",
    "        start_y = (new_h - target_size) // 2\n",
    "        cropped = resized[start_y:start_y + target_size, start_x:start_x + target_size]\n",
    "\n",
    "        if cropped.shape == (target_size, target_size, 3):\n",
    "            processed_images.append(cropped)\n",
    "        else:\n",
    "            skipped_count += 1\n",
    "\n",
    "    print(f\"Processed: {len(processed_images)} images\")\n",
    "    print(f\"Skipped: {skipped_count} images\")\n",
    "\n",
    "    return np.stack(processed_images) if processed_images else np.array([])\n",
    "\n"
   ]
  },
  {
   "cell_type": "code",
   "execution_count": 4,
   "id": "bd1862b268144556",
   "metadata": {
    "ExecuteTime": {
     "end_time": "2025-05-10T03:38:39.249145Z",
     "start_time": "2025-05-10T03:38:14.305937Z"
    },
    "collapsed": false,
    "jupyter": {
     "outputs_hidden": false
    }
   },
   "outputs": [],
   "source": [
    "# Load images\n",
    "\n",
    "images_train, labels_train = image_loader(\n",
    "    \"C:/Users/sherr/NZMSA 2025-Phase-2 main data-science-3. Deep Learning Project_dataset_split_train\"\n",
    ")\n",
    "\n",
    "images_val, labels_val = image_loader(\n",
    "    \"C:/Users/sherr/NZMSA 2025-Phase-2 main data-science-3. Deep Learning Project_dataset_split_val\"\n",
    ")\n",
    "\n",
    "images_test, _ = image_loader(\n",
    "    \"C:/Users/sherr/NZMSA 2025-Phase-2 main data-science-3. Deep Learning Project_dataset_split_test\"\n",
    ")\n"
   ]
  },
  {
   "cell_type": "code",
   "execution_count": 5,
   "id": "1975435fea13d751",
   "metadata": {
    "ExecuteTime": {
     "end_time": "2025-05-10T03:39:17.095684Z",
     "start_time": "2025-05-10T03:38:57.883480Z"
    },
    "collapsed": false,
    "jupyter": {
     "outputs_hidden": false
    }
   },
   "outputs": [
    {
     "name": "stdout",
     "output_type": "stream",
     "text": [
      "Processed: 7316 images\n",
      "Skipped: 484 images\n",
      "Processed: 2452 images\n",
      "Skipped: 148 images\n",
      "Processed: 2430 images\n",
      "Skipped: 170 images\n"
     ]
    }
   ],
   "source": [
    "# Resize the images\n",
    "\n",
    "images_train = img_resize(images_train, 224)\n",
    "images_val = img_resize(images_val, 224)\n",
    "images_test = img_resize(images_test, 224)"
   ]
  },
  {
   "cell_type": "code",
   "execution_count": 6,
   "id": "bd71fcddecfefdbf",
   "metadata": {
    "ExecuteTime": {
     "end_time": "2025-05-10T03:39:20.788788Z",
     "start_time": "2025-05-10T03:39:17.097418Z"
    },
    "collapsed": false,
    "jupyter": {
     "outputs_hidden": false
    }
   },
   "outputs": [],
   "source": [
    "# TODO: 3. Convert the image data type as float32 and limit the range in [0, 1].\n",
    "\n",
    "images_train = images_train.astype(np.float32) / 255.0\n",
    "images_val = images_val.astype(np.float32) / 255.0\n",
    "images_test = images_test.astype(np.float32) / 255.0"
   ]
  },
  {
   "cell_type": "code",
   "execution_count": 7,
   "id": "1938cec6018a8176",
   "metadata": {
    "ExecuteTime": {
     "end_time": "2025-05-10T03:39:21.156559Z",
     "start_time": "2025-05-10T03:39:20.789492Z"
    },
    "collapsed": false,
    "jupyter": {
     "outputs_hidden": false
    }
   },
   "outputs": [],
   "source": [
    "# TODO: 4. Convert data from NHWC to NCHW and creat a PyTorch tensor from it.\n",
    "\n",
    "tensor_train = torch.from_numpy(images_train).permute(0, 3, 1, 2)\n",
    "tensor_val = torch.from_numpy(images_val).permute(0, 3, 1, 2)\n",
    "tensor_test = torch.from_numpy(images_test).permute(0, 3, 1, 2)"
   ]
  },
  {
   "cell_type": "code",
   "execution_count": 8,
   "id": "d584e1b61e015747",
   "metadata": {
    "ExecuteTime": {
     "end_time": "2025-05-10T03:39:32.523629Z",
     "start_time": "2025-05-10T03:39:21.158863Z"
    },
    "collapsed": false,
    "jupyter": {
     "outputs_hidden": false
    }
   },
   "outputs": [],
   "source": [
    "# TODO: 5. Per-channel standardization of the dataset using training set statistics (mean and std computed independently for each color channel).\n",
    "\n",
    "\n",
    "train_mean = tensor_train.mean(dim=(0, 2, 3), keepdim=True)\n",
    "train_std = tensor_train.std(dim=(0, 2, 3), keepdim=True)\n",
    "\n",
    "\n",
    "tensor_train = (tensor_train - train_mean) / train_std\n",
    "tensor_val = (tensor_val - train_mean) / train_std\n",
    "tensor_test = (tensor_test - train_mean) / train_std"
   ]
  },
  {
   "cell_type": "code",
   "execution_count": 9,
   "id": "9f7a684ba9e6561c",
   "metadata": {
    "ExecuteTime": {
     "end_time": "2025-05-10T03:39:41.944582Z",
     "start_time": "2025-05-10T03:39:32.524747Z"
    },
    "collapsed": false,
    "jupyter": {
     "outputs_hidden": false
    }
   },
   "outputs": [],
   "source": [
    "# TODO: 6. Save the pre-processed sets as .pt files.\n",
    "import json\n",
    "\n",
    "# 6.1 Save tensors\n",
    "torch.save(tensor_train, \"E:/tensor_train.pt\")\n",
    "torch.save(tensor_val, \"E:/tensor_val.pt\")\n",
    "torch.save(tensor_test, \"E:/tensor_test.pt\")\n",
    "\n",
    "# 6.2 Create label mappings\n",
    "unique_labels = sorted(list(set(labels_train)))  # get sorted unique labels\n",
    "label_to_index = {label: idx for idx, label in enumerate(unique_labels)}\n",
    "index_to_label = {idx: label for label, idx in label_to_index.items()}\n",
    "\n",
    "# 6.3 Map labels to indices\n",
    "labels_train_index = [label_to_index[label] for label in labels_train]\n",
    "labels_val_index = [label_to_index[label] for label in labels_val]\n",
    "\n",
    "# Save label indices as tensors\n",
    "torch.save(torch.tensor(labels_train_index), \"E:/labels_train.pt\")\n",
    "torch.save(torch.tensor(labels_val_index), \"E:/labels_val.pt\")\n",
    "\n",
    "# 6.4 Save mappings as JSON files \n",
    "with open(\"E:/label_to_index.json\", \"w\") as f:\n",
    "    json.dump(label_to_index, f)\n",
    "\n",
    "with open(\"E:/index_to_label.json\", \"w\") as f:\n",
    "    json.dump(index_to_label, f)\n"
   ]
  },
  {
   "cell_type": "code",
   "execution_count": 10,
   "id": "a3a5a646027a826",
   "metadata": {
    "ExecuteTime": {
     "end_time": "2025-05-10T03:39:45.192760Z",
     "start_time": "2025-05-10T03:39:41.946771Z"
    },
    "collapsed": false,
    "jupyter": {
     "outputs_hidden": false
    }
   },
   "outputs": [],
   "source": [
    "# TODO: 7. Load the pre-processed sets from .pt files. The data can be used directly in future without pre-processing once more by loading from the folder.\n",
    "\n",
    "tensor_train = torch.load(\"E:/tensor_train.pt\",weights_only=False)\n",
    "tensor_val = torch.load(\"E:/tensor_val.pt\",weights_only=False)\n",
    "tensor_test = torch.load(\"E:/tensor_test.pt\",weights_only=False)\n",
    "\n",
    "labels_train_index = torch.load(\"E:/labels_train.pt\",weights_only=False)\n",
    "labels_val_index = torch.load(\"E:/labels_val.pt\",weights_only=False)"
   ]
  },
  {
   "cell_type": "markdown",
   "id": "f5cb7cfa317410ff",
   "metadata": {
    "collapsed": false,
    "jupyter": {
     "outputs_hidden": false
    }
   },
   "source": [
    "# Step 2 Train the teacher model (ResNet34)\n",
    "1. Set hyperparameters for the training process.\n",
    "2. Create a pretrained ResNet34.\n",
    "3. Define the optimizer, loss function, etc.\n",
    "4. Train ResNet34 and save the best-performing parameters to 'resnet34_checkpoint.pkl'.\n",
    "5. Plot the loss and accuracy curves."
   ]
  },
  {
   "cell_type": "code",
   "execution_count": 11,
   "id": "745979a1b12465eb",
   "metadata": {
    "ExecuteTime": {
     "end_time": "2025-05-10T01:43:51.705549Z",
     "start_time": "2025-05-10T01:43:51.663106Z"
    },
    "collapsed": false,
    "jupyter": {
     "outputs_hidden": false
    }
   },
   "outputs": [
    {
     "name": "stdout",
     "output_type": "stream",
     "text": [
      "tensor(10)\n",
      "torch.Size([7316, 3, 224, 224])\n",
      "torch.Size([2452, 3, 224, 224])\n",
      "torch.Size([2430, 3, 224, 224])\n",
      "torch.Size([7800])\n",
      "torch.Size([2600])\n"
     ]
    }
   ],
   "source": [
    "# Verify data shapes\n",
    "\n",
    "num_classes = max(labels_train_index) + 1\n",
    "print(num_classes)\n",
    "print(tensor_train.shape)\n",
    "print(tensor_val.shape)\n",
    "print(tensor_test.shape)\n",
    "print(labels_train_index.shape)\n",
    "print(labels_val_index.shape)"
   ]
  },
  {
   "cell_type": "code",
   "execution_count": 12,
   "id": "507aa43e1a3701b5",
   "metadata": {
    "ExecuteTime": {
     "end_time": "2025-05-10T01:43:52.604546Z",
     "start_time": "2025-05-10T01:43:52.600245Z"
    },
    "collapsed": false,
    "jupyter": {
     "outputs_hidden": false
    }
   },
   "outputs": [],
   "source": [
    "# TODO: 1. Set hyperparameters for the training process.\n",
    "\n",
    "\n",
    "\n",
    "MAX_EPOCH = 50         # Number of training epochs\n",
    "INIT_LR = 0.001         # Initial learning rate (standard for Adam)\n",
    "BATCH_SIZE = 64         # Batch size (adjust depending on your memory capacity)\n",
    "\n",
    "# Specify the training device (automatically detects GPU if available)\n",
    "device = torch.device(\"cuda\" if torch.cuda.is_available() else \"cpu\")\n"
   ]
  },
  {
   "cell_type": "code",
   "execution_count": 15,
   "id": "c8b9bf9ed5ae5cf9",
   "metadata": {
    "ExecuteTime": {
     "end_time": "2025-05-10T01:43:55.541802Z",
     "start_time": "2025-05-10T01:43:55.291383Z"
    },
    "collapsed": false,
    "jupyter": {
     "outputs_hidden": false
    }
   },
   "outputs": [
    {
     "data": {
      "text/plain": [
       "ResNet(\n",
       "  (conv1): Conv2d(3, 64, kernel_size=(7, 7), stride=(2, 2), padding=(3, 3), bias=False)\n",
       "  (bn1): BatchNorm2d(64, eps=1e-05, momentum=0.1, affine=True, track_running_stats=True)\n",
       "  (relu): ReLU(inplace=True)\n",
       "  (maxpool): MaxPool2d(kernel_size=3, stride=2, padding=1, dilation=1, ceil_mode=False)\n",
       "  (layer1): Sequential(\n",
       "    (0): BasicBlock(\n",
       "      (conv1): Conv2d(64, 64, kernel_size=(3, 3), stride=(1, 1), padding=(1, 1), bias=False)\n",
       "      (bn1): BatchNorm2d(64, eps=1e-05, momentum=0.1, affine=True, track_running_stats=True)\n",
       "      (relu): ReLU(inplace=True)\n",
       "      (conv2): Conv2d(64, 64, kernel_size=(3, 3), stride=(1, 1), padding=(1, 1), bias=False)\n",
       "      (bn2): BatchNorm2d(64, eps=1e-05, momentum=0.1, affine=True, track_running_stats=True)\n",
       "    )\n",
       "    (1): BasicBlock(\n",
       "      (conv1): Conv2d(64, 64, kernel_size=(3, 3), stride=(1, 1), padding=(1, 1), bias=False)\n",
       "      (bn1): BatchNorm2d(64, eps=1e-05, momentum=0.1, affine=True, track_running_stats=True)\n",
       "      (relu): ReLU(inplace=True)\n",
       "      (conv2): Conv2d(64, 64, kernel_size=(3, 3), stride=(1, 1), padding=(1, 1), bias=False)\n",
       "      (bn2): BatchNorm2d(64, eps=1e-05, momentum=0.1, affine=True, track_running_stats=True)\n",
       "    )\n",
       "    (2): BasicBlock(\n",
       "      (conv1): Conv2d(64, 64, kernel_size=(3, 3), stride=(1, 1), padding=(1, 1), bias=False)\n",
       "      (bn1): BatchNorm2d(64, eps=1e-05, momentum=0.1, affine=True, track_running_stats=True)\n",
       "      (relu): ReLU(inplace=True)\n",
       "      (conv2): Conv2d(64, 64, kernel_size=(3, 3), stride=(1, 1), padding=(1, 1), bias=False)\n",
       "      (bn2): BatchNorm2d(64, eps=1e-05, momentum=0.1, affine=True, track_running_stats=True)\n",
       "    )\n",
       "  )\n",
       "  (layer2): Sequential(\n",
       "    (0): BasicBlock(\n",
       "      (conv1): Conv2d(64, 128, kernel_size=(3, 3), stride=(2, 2), padding=(1, 1), bias=False)\n",
       "      (bn1): BatchNorm2d(128, eps=1e-05, momentum=0.1, affine=True, track_running_stats=True)\n",
       "      (relu): ReLU(inplace=True)\n",
       "      (conv2): Conv2d(128, 128, kernel_size=(3, 3), stride=(1, 1), padding=(1, 1), bias=False)\n",
       "      (bn2): BatchNorm2d(128, eps=1e-05, momentum=0.1, affine=True, track_running_stats=True)\n",
       "      (downsample): Sequential(\n",
       "        (0): Conv2d(64, 128, kernel_size=(1, 1), stride=(2, 2), bias=False)\n",
       "        (1): BatchNorm2d(128, eps=1e-05, momentum=0.1, affine=True, track_running_stats=True)\n",
       "      )\n",
       "    )\n",
       "    (1): BasicBlock(\n",
       "      (conv1): Conv2d(128, 128, kernel_size=(3, 3), stride=(1, 1), padding=(1, 1), bias=False)\n",
       "      (bn1): BatchNorm2d(128, eps=1e-05, momentum=0.1, affine=True, track_running_stats=True)\n",
       "      (relu): ReLU(inplace=True)\n",
       "      (conv2): Conv2d(128, 128, kernel_size=(3, 3), stride=(1, 1), padding=(1, 1), bias=False)\n",
       "      (bn2): BatchNorm2d(128, eps=1e-05, momentum=0.1, affine=True, track_running_stats=True)\n",
       "    )\n",
       "    (2): BasicBlock(\n",
       "      (conv1): Conv2d(128, 128, kernel_size=(3, 3), stride=(1, 1), padding=(1, 1), bias=False)\n",
       "      (bn1): BatchNorm2d(128, eps=1e-05, momentum=0.1, affine=True, track_running_stats=True)\n",
       "      (relu): ReLU(inplace=True)\n",
       "      (conv2): Conv2d(128, 128, kernel_size=(3, 3), stride=(1, 1), padding=(1, 1), bias=False)\n",
       "      (bn2): BatchNorm2d(128, eps=1e-05, momentum=0.1, affine=True, track_running_stats=True)\n",
       "    )\n",
       "    (3): BasicBlock(\n",
       "      (conv1): Conv2d(128, 128, kernel_size=(3, 3), stride=(1, 1), padding=(1, 1), bias=False)\n",
       "      (bn1): BatchNorm2d(128, eps=1e-05, momentum=0.1, affine=True, track_running_stats=True)\n",
       "      (relu): ReLU(inplace=True)\n",
       "      (conv2): Conv2d(128, 128, kernel_size=(3, 3), stride=(1, 1), padding=(1, 1), bias=False)\n",
       "      (bn2): BatchNorm2d(128, eps=1e-05, momentum=0.1, affine=True, track_running_stats=True)\n",
       "    )\n",
       "  )\n",
       "  (layer3): Sequential(\n",
       "    (0): BasicBlock(\n",
       "      (conv1): Conv2d(128, 256, kernel_size=(3, 3), stride=(2, 2), padding=(1, 1), bias=False)\n",
       "      (bn1): BatchNorm2d(256, eps=1e-05, momentum=0.1, affine=True, track_running_stats=True)\n",
       "      (relu): ReLU(inplace=True)\n",
       "      (conv2): Conv2d(256, 256, kernel_size=(3, 3), stride=(1, 1), padding=(1, 1), bias=False)\n",
       "      (bn2): BatchNorm2d(256, eps=1e-05, momentum=0.1, affine=True, track_running_stats=True)\n",
       "      (downsample): Sequential(\n",
       "        (0): Conv2d(128, 256, kernel_size=(1, 1), stride=(2, 2), bias=False)\n",
       "        (1): BatchNorm2d(256, eps=1e-05, momentum=0.1, affine=True, track_running_stats=True)\n",
       "      )\n",
       "    )\n",
       "    (1): BasicBlock(\n",
       "      (conv1): Conv2d(256, 256, kernel_size=(3, 3), stride=(1, 1), padding=(1, 1), bias=False)\n",
       "      (bn1): BatchNorm2d(256, eps=1e-05, momentum=0.1, affine=True, track_running_stats=True)\n",
       "      (relu): ReLU(inplace=True)\n",
       "      (conv2): Conv2d(256, 256, kernel_size=(3, 3), stride=(1, 1), padding=(1, 1), bias=False)\n",
       "      (bn2): BatchNorm2d(256, eps=1e-05, momentum=0.1, affine=True, track_running_stats=True)\n",
       "    )\n",
       "    (2): BasicBlock(\n",
       "      (conv1): Conv2d(256, 256, kernel_size=(3, 3), stride=(1, 1), padding=(1, 1), bias=False)\n",
       "      (bn1): BatchNorm2d(256, eps=1e-05, momentum=0.1, affine=True, track_running_stats=True)\n",
       "      (relu): ReLU(inplace=True)\n",
       "      (conv2): Conv2d(256, 256, kernel_size=(3, 3), stride=(1, 1), padding=(1, 1), bias=False)\n",
       "      (bn2): BatchNorm2d(256, eps=1e-05, momentum=0.1, affine=True, track_running_stats=True)\n",
       "    )\n",
       "    (3): BasicBlock(\n",
       "      (conv1): Conv2d(256, 256, kernel_size=(3, 3), stride=(1, 1), padding=(1, 1), bias=False)\n",
       "      (bn1): BatchNorm2d(256, eps=1e-05, momentum=0.1, affine=True, track_running_stats=True)\n",
       "      (relu): ReLU(inplace=True)\n",
       "      (conv2): Conv2d(256, 256, kernel_size=(3, 3), stride=(1, 1), padding=(1, 1), bias=False)\n",
       "      (bn2): BatchNorm2d(256, eps=1e-05, momentum=0.1, affine=True, track_running_stats=True)\n",
       "    )\n",
       "    (4): BasicBlock(\n",
       "      (conv1): Conv2d(256, 256, kernel_size=(3, 3), stride=(1, 1), padding=(1, 1), bias=False)\n",
       "      (bn1): BatchNorm2d(256, eps=1e-05, momentum=0.1, affine=True, track_running_stats=True)\n",
       "      (relu): ReLU(inplace=True)\n",
       "      (conv2): Conv2d(256, 256, kernel_size=(3, 3), stride=(1, 1), padding=(1, 1), bias=False)\n",
       "      (bn2): BatchNorm2d(256, eps=1e-05, momentum=0.1, affine=True, track_running_stats=True)\n",
       "    )\n",
       "    (5): BasicBlock(\n",
       "      (conv1): Conv2d(256, 256, kernel_size=(3, 3), stride=(1, 1), padding=(1, 1), bias=False)\n",
       "      (bn1): BatchNorm2d(256, eps=1e-05, momentum=0.1, affine=True, track_running_stats=True)\n",
       "      (relu): ReLU(inplace=True)\n",
       "      (conv2): Conv2d(256, 256, kernel_size=(3, 3), stride=(1, 1), padding=(1, 1), bias=False)\n",
       "      (bn2): BatchNorm2d(256, eps=1e-05, momentum=0.1, affine=True, track_running_stats=True)\n",
       "    )\n",
       "  )\n",
       "  (layer4): Sequential(\n",
       "    (0): BasicBlock(\n",
       "      (conv1): Conv2d(256, 512, kernel_size=(3, 3), stride=(2, 2), padding=(1, 1), bias=False)\n",
       "      (bn1): BatchNorm2d(512, eps=1e-05, momentum=0.1, affine=True, track_running_stats=True)\n",
       "      (relu): ReLU(inplace=True)\n",
       "      (conv2): Conv2d(512, 512, kernel_size=(3, 3), stride=(1, 1), padding=(1, 1), bias=False)\n",
       "      (bn2): BatchNorm2d(512, eps=1e-05, momentum=0.1, affine=True, track_running_stats=True)\n",
       "      (downsample): Sequential(\n",
       "        (0): Conv2d(256, 512, kernel_size=(1, 1), stride=(2, 2), bias=False)\n",
       "        (1): BatchNorm2d(512, eps=1e-05, momentum=0.1, affine=True, track_running_stats=True)\n",
       "      )\n",
       "    )\n",
       "    (1): BasicBlock(\n",
       "      (conv1): Conv2d(512, 512, kernel_size=(3, 3), stride=(1, 1), padding=(1, 1), bias=False)\n",
       "      (bn1): BatchNorm2d(512, eps=1e-05, momentum=0.1, affine=True, track_running_stats=True)\n",
       "      (relu): ReLU(inplace=True)\n",
       "      (conv2): Conv2d(512, 512, kernel_size=(3, 3), stride=(1, 1), padding=(1, 1), bias=False)\n",
       "      (bn2): BatchNorm2d(512, eps=1e-05, momentum=0.1, affine=True, track_running_stats=True)\n",
       "    )\n",
       "    (2): BasicBlock(\n",
       "      (conv1): Conv2d(512, 512, kernel_size=(3, 3), stride=(1, 1), padding=(1, 1), bias=False)\n",
       "      (bn1): BatchNorm2d(512, eps=1e-05, momentum=0.1, affine=True, track_running_stats=True)\n",
       "      (relu): ReLU(inplace=True)\n",
       "      (conv2): Conv2d(512, 512, kernel_size=(3, 3), stride=(1, 1), padding=(1, 1), bias=False)\n",
       "      (bn2): BatchNorm2d(512, eps=1e-05, momentum=0.1, affine=True, track_running_stats=True)\n",
       "    )\n",
       "  )\n",
       "  (avgpool): AdaptiveAvgPool2d(output_size=(1, 1))\n",
       "  (fc): Linear(in_features=512, out_features=10, bias=True)\n",
       ")"
      ]
     },
     "execution_count": 15,
     "metadata": {},
     "output_type": "execute_result"
    }
   ],
   "source": [
    "# TODO: 2. Create a pretrained ResNet34.\n",
    "\n",
    "import torchvision.models as models\n",
    "import torch.nn as nn\n",
    "from torchvision.models import ResNet34_Weights\n",
    "\n",
    "# Load pretrained ResNet34 and modify final FC layer\n",
    "# 2.1 Use torchvision to create a pretrained ResNet34.\n",
    "resnet34 = models.resnet34(weights=ResNet34_Weights.DEFAULT)\n",
    "\n",
    "# 2.2 Modify the output layer so that the model aligns with this project.\n",
    "resnet34.fc = nn.Linear(resnet34.fc.in_features, len(torch.unique(labels_train_index)))\n",
    "\n",
    "# 2.3 Move the model to selected device.\n",
    "resnet34.to(device)"
   ]
  },
  {
   "cell_type": "code",
   "execution_count": 16,
   "id": "70de5ac59beb12d",
   "metadata": {
    "ExecuteTime": {
     "end_time": "2025-05-10T01:43:56.555839Z",
     "start_time": "2025-05-10T01:43:56.542721Z"
    },
    "collapsed": false,
    "jupyter": {
     "outputs_hidden": false
    }
   },
   "outputs": [],
   "source": [
    "# TODO: 3. Define the optimizer, loss function, etc.\n",
    "\n",
    "import torch.optim as optim\n",
    "\n",
    "# 3. Define optimizer and loss function\n",
    "optimizer = optim.Adam(resnet34.parameters(), lr=INIT_LR)  # Using Adam optimizer\n",
    "criterion = nn.CrossEntropyLoss()  # For multi-class classification\n"
   ]
  },
  {
   "cell_type": "code",
   "execution_count": null,
   "id": "65a797debcc531db",
   "metadata": {
    "collapsed": false,
    "jupyter": {
     "outputs_hidden": false
    }
   },
   "outputs": [],
   "source": [
    "# TODO: 4. Train ResNet34 and save the best-performing parameters to 'resnet34_checkpoint.pkl'.\n",
    "# Hint: May not need too many epochs as this is a pretrained model.\n",
    "\n",
    "\n",
    "from torch.utils.data import DataLoader, TensorDataset\n",
    "import torch.nn.functional as F\n",
    "import copy\n",
    "\n",
    "# Ensure labels are matched correctly to image tensors\n",
    "labels_train_index = [label_to_index[label] for i, label in enumerate(labels_train) if i < len(tensor_train)]\n",
    "labels_val_index = [label_to_index[label] for i, label in enumerate(labels_val) if i < len(tensor_val)]\n",
    "\n",
    "# Convert labels to tensors\n",
    "labels_train_tensor = torch.tensor(labels_train_index)\n",
    "labels_val_tensor = torch.tensor(labels_val_index)\n",
    "\n",
    "# Create TensorDatasets\n",
    "train_dataset = TensorDataset(tensor_train, labels_train_tensor)\n",
    "val_dataset = TensorDataset(tensor_val, labels_val_tensor)\n",
    "\n",
    "# Create DataLoaders\n",
    "train_loader = DataLoader(train_dataset, batch_size=BATCH_SIZE, shuffle=True)\n",
    "val_loader = DataLoader(val_dataset, batch_size=BATCH_SIZE)\n",
    "\n",
    "# Track metrics\n",
    "train_accs_resnet34, train_losses_resnet34 = [], []\n",
    "val_accs_resnet34, val_losses_resnet34 = [], []\n",
    "\n",
    "best_acc = 0.0\n",
    "best_model = None\n",
    "\n",
    "# Training loop\n",
    "for epoch in range(MAX_EPOCH):\n",
    "    resnet34.train()\n",
    "    correct = total = train_loss = 0\n",
    "\n",
    "    for X, y in train_loader:\n",
    "        X, y = X.to(device), y.to(device)\n",
    "        optimizer.zero_grad()\n",
    "        output = resnet34(X)\n",
    "        loss = criterion(output, y)\n",
    "        loss.backward()\n",
    "        optimizer.step()\n",
    "\n",
    "        train_loss += loss.item()\n",
    "        pred = output.argmax(dim=1)\n",
    "        correct += (pred == y).sum().item()\n",
    "        total += y.size(0)\n",
    "\n",
    "    train_acc = correct / total\n",
    "    train_losses_resnet34.append(train_loss / len(train_loader))\n",
    "    train_accs_resnet34.append(train_acc)\n",
    "\n",
    "    # Validation\n",
    "    resnet34.eval()\n",
    "    correct = total = val_loss = 0\n",
    "    with torch.no_grad():\n",
    "        for X, y in val_loader:\n",
    "            X, y = X.to(device), y.to(device)\n",
    "            output = resnet34(X)\n",
    "            loss = criterion(output, y)\n",
    "\n",
    "            val_loss += loss.item()\n",
    "            pred = output.argmax(dim=1)\n",
    "            correct += (pred == y).sum().item()\n",
    "            total += y.size(0)\n",
    "\n",
    "    val_acc = correct / total\n",
    "    val_losses_resnet34.append(val_loss / len(val_loader))\n",
    "    val_accs_resnet34.append(val_acc)\n",
    "\n",
    "    print(f\"Epoch {epoch+1}/{MAX_EPOCH} | Train Acc: {train_acc:.4f} | Val Acc: {val_acc:.4f}\")\n",
    "\n",
    "    # Save best model\n",
    "    if val_acc > best_acc:\n",
    "        best_acc = val_acc\n",
    "        best_model = copy.deepcopy(resnet34.state_dict())\n",
    "        torch.save(best_model, \"resnet34_checkpoint.pkl\")\n",
    "#This part is too slow to train in CPU environment, so I trained it in googlecolab with GPU environment instead. Please check googlecolab_resnet34_resnet18 file."
   ]
  },
  {
   "cell_type": "code",
   "execution_count": null,
   "id": "bb5a3089891cf4a3",
   "metadata": {
    "collapsed": false,
    "jupyter": {
     "outputs_hidden": false
    }
   },
   "outputs": [],
   "source": [
    "# TODO: 5. Plot the loss and accuracy curves.\n",
    "# check googlecolab file"
   ]
  },
  {
   "cell_type": "markdown",
   "id": "897fa4102b57deab",
   "metadata": {
    "collapsed": false,
    "jupyter": {
     "outputs_hidden": false
    }
   },
   "source": [
    "# Step 3 Train the student model (ResNet18)\n",
    "1. Set hyperparameters for the distillation process.\n",
    "2. Create a NON-PRETRAINED ResNet18 and move the model to selected device.\n",
    "3. Load the saved ResNet34 and move the model to selected device.\n",
    "4. Define the optimizer, loss function, etc.\n",
    "5. Train ResNet18 and save the best-performing parameters to 'resnet18_checkpoint.pkl'.\n",
    "6. Plot the loss and accuracy curves."
   ]
  },
  {
   "cell_type": "code",
   "execution_count": 17,
   "id": "68482456ab9410f8",
   "metadata": {
    "ExecuteTime": {
     "end_time": "2025-05-10T01:57:38.370616Z",
     "start_time": "2025-05-10T01:57:38.341026Z"
    },
    "collapsed": false,
    "jupyter": {
     "outputs_hidden": false
    }
   },
   "outputs": [
    {
     "name": "stdout",
     "output_type": "stream",
     "text": [
      "tensor(10)\n",
      "torch.Size([7316, 3, 224, 224])\n",
      "torch.Size([2452, 3, 224, 224])\n",
      "torch.Size([2430, 3, 224, 224])\n",
      "torch.Size([7800])\n",
      "torch.Size([2600])\n"
     ]
    }
   ],
   "source": [
    "# Verify data shapes\n",
    "\n",
    "num_classes = max(labels_train_index) + 1\n",
    "print(num_classes)\n",
    "print(tensor_train.shape)\n",
    "print(tensor_val.shape)\n",
    "print(tensor_test.shape)\n",
    "print(labels_train_index.shape)\n",
    "print(labels_val_index.shape)"
   ]
  },
  {
   "cell_type": "code",
   "execution_count": 18,
   "id": "36a405975e022459",
   "metadata": {
    "ExecuteTime": {
     "end_time": "2025-05-10T01:57:39.329470Z",
     "start_time": "2025-05-10T01:57:39.294551Z"
    },
    "collapsed": false,
    "jupyter": {
     "outputs_hidden": false
    }
   },
   "outputs": [],
   "source": [
    "# TODO: 1. Set hyperparameters for the distillation process.\n",
    "\n",
    "MAX_EPOCH =50\n",
    "INIT_LR =0.001\n",
    "BATCH_SIZE =64\n",
    "device = torch.device(\"cuda\" if torch.cuda.is_available() else \"cpu\")\n",
    "\n",
    "TEMPERATURE = 4.0  # Distillation temperature\n",
    "LOSS_RATIO = 0.7 #  # Weight for KD loss vs CE loss"
   ]
  },
  {
   "cell_type": "code",
   "execution_count": 19,
   "id": "e7d2325836c2cf7d",
   "metadata": {
    "ExecuteTime": {
     "end_time": "2025-05-10T01:57:43.030265Z",
     "start_time": "2025-05-10T01:57:42.861042Z"
    },
    "collapsed": false,
    "jupyter": {
     "outputs_hidden": false
    }
   },
   "outputs": [],
   "source": [
    "# TODO: 2. Create a NON-PRETRAINED ResNet18 and move the model to selected device.\n",
    "# Create a NON-pretrained ResNet18\n",
    "resnet18 = models.resnet18(weights=None)  # or pretrained=False in older versions\n",
    "\n",
    "# Adjust the output layer to match your number of classes\n",
    "resnet18.fc = nn.Linear(resnet18.fc.in_features, num_classes)  # replace num_classes with your actual number\n",
    "\n",
    "# Move to selected device\n",
    "resnet18 = resnet18.to(device)"
   ]
  },
  {
   "cell_type": "code",
   "execution_count": null,
   "id": "b8092f5d5acce972",
   "metadata": {
    "collapsed": false,
    "jupyter": {
     "outputs_hidden": false
    }
   },
   "outputs": [],
   "source": [
    "# TODO: 3. Load the saved ResNet34 and move the model to selected device.\n",
    "# Hint: Enable the evaluation mode to prevent updating the parameters.\n",
    "# Load the trained weights\n",
    "resnet34.load_state_dict(torch.load('/content/drive/MyDrive/resnet34_checkpoint.pkl', map_location=device))\n",
    "\n",
    "# Move to device\n",
    "resnet34 = resnet34.to(device)\n",
    "\n",
    "# Set to evaluation mode\n",
    "resnet34.eval()\n",
    "\n",
    "#resnet34_checkpoint.pkl has been saved in my google drive, please check the googlecolab_resnet34_resnet18 file."
   ]
  },
  {
   "cell_type": "code",
   "execution_count": 20,
   "id": "f312a04da1e5ddf6",
   "metadata": {
    "ExecuteTime": {
     "end_time": "2025-05-10T01:57:49.170629Z",
     "start_time": "2025-05-10T01:57:49.152278Z"
    },
    "collapsed": false,
    "jupyter": {
     "outputs_hidden": false
    }
   },
   "outputs": [],
   "source": [
    "# TODO: 4. Define the optimizer, loss function, etc.\n",
    "\n",
    "# Define optimizer\n",
    "optimizer = optim.Adam(resnet18.parameters(), lr=0.001)\n",
    "\n",
    "# Learning rate scheduler\n",
    "scheduler = optim.lr_scheduler.StepLR(optimizer, step_size=10, gamma=0.1)\n",
    "\n",
    "# Cross-Entropy Loss (can also be combined with KD loss later)\n",
    "criterion = nn.CrossEntropyLoss()"
   ]
  },
  {
   "cell_type": "code",
   "execution_count": null,
   "id": "3c17f3f9eb662cef",
   "metadata": {
    "collapsed": false,
    "jupyter": {
     "outputs_hidden": false
    }
   },
   "outputs": [],
   "source": [
    "# TODO: 5. Train ResNet18 and save the best-performing parameters to 'resnet18_checkpoint.pkl'.\n",
    "# Hint: Use the correct loss function for knowledge distillation.\n",
    "\n",
    "\n",
    "T = 4.0         # Temperature for distillation\n",
    "alpha = 0.7     # Balance between KD loss and CE loss\n",
    "\n",
    "\n",
    "# Training loop\n",
    "EPOCHS = 50\n",
    "train_accs, train_losses = [], []\n",
    "val_accs, val_losses = [], []\n",
    "best_acc = 0.0\n",
    "best_model = None\n",
    "\n",
    "for epoch in range(EPOCHS):\n",
    "    resnet18.train()\n",
    "    total = correct = epoch_loss = 0\n",
    "\n",
    "    for X, y in train_loader:\n",
    "        X, y = X.to(device), y.to(device)\n",
    "        optimizer.zero_grad()\n",
    "\n",
    "        # Student forward\n",
    "        student_out = resnet18(X)\n",
    "\n",
    "        # Teacher forward (no gradient update)\n",
    "        with torch.no_grad():\n",
    "            teacher_out = resnet34(X)\n",
    "\n",
    "        # Calculate losses\n",
    "        loss_ce = criterion_ce(student_out, y)\n",
    "        loss_kd = F.kl_div(\n",
    "            F.log_softmax(student_out / T, dim=1),\n",
    "            F.softmax(teacher_out / T, dim=1),\n",
    "            reduction='batchmean'\n",
    "        ) * (T * T)\n",
    "\n",
    "        # Combine the losses\n",
    "        loss = alpha * loss_kd + (1 - alpha) * loss_ce\n",
    "        loss.backward()\n",
    "        optimizer.step()\n",
    "\n",
    "        pred = student_out.argmax(1)\n",
    "        correct += (pred == y).sum().item()\n",
    "        total += y.size(0)\n",
    "        epoch_loss += loss.item()\n",
    "\n",
    "    scheduler.step()\n",
    "\n",
    "    train_acc = correct / total\n",
    "    train_loss = epoch_loss / len(train_loader)\n",
    "    train_accs.append(train_acc)\n",
    "    train_losses.append(train_loss)\n",
    "\n",
    "    # Validation\n",
    "    resnet18.eval()\n",
    "    correct = total = val_loss = 0\n",
    "    with torch.no_grad():\n",
    "        for X, y in val_loader:\n",
    "            X, y = X.to(device), y.to(device)\n",
    "            out = resnet18(X)\n",
    "            loss = criterion_ce(out, y)\n",
    "            pred = out.argmax(1)\n",
    "            correct += (pred == y).sum().item()\n",
    "            val_loss += loss.item()\n",
    "            total += y.size(0)\n",
    "\n",
    "    val_acc = correct / total\n",
    "    val_loss = val_loss / len(val_loader)\n",
    "    val_accs.append(val_acc)\n",
    "    val_losses.append(val_loss)\n",
    "\n",
    "    print(f\"Epoch {epoch+1}/{EPOCHS} - Train Acc: {train_acc:.4f}, Train Loss: {train_loss:.4f}, Val Acc: {val_acc:.4f}, Val Loss: {val_loss:.4f}\")\n",
    "\n",
    "    if val_acc > best_acc:\n",
    "        best_acc = val_acc\n",
    "        best_model = resnet18.state_dict()\n",
    "        torch.save(best_model, \"resnet18_checkpoint.pkl\")\n",
    "\n",
    "#check googlecolab_resnet18 file"
   ]
  },
  {
   "cell_type": "code",
   "execution_count": null,
   "id": "260396b6b143a422",
   "metadata": {
    "ExecuteTime": {
     "end_time": "2025-05-10T03:04:33.157515Z",
     "start_time": "2025-05-10T03:04:32.960493Z"
    },
    "collapsed": false,
    "jupyter": {
     "outputs_hidden": false
    }
   },
   "outputs": [],
   "source": [
    "# TODO: 6. Plot the loss and accuracy curves.\n",
    "#check googlecolab_resnet34_resnet18 file\n"
   ]
  },
  {
   "cell_type": "markdown",
   "id": "730790a6c4e96912",
   "metadata": {
    "collapsed": false,
    "jupyter": {
     "outputs_hidden": false
    }
   },
   "source": [
    "# Step 4 Predict labels in the testing set\n",
    "1. Load the saved ResNet18 and move it to the selected device.\n",
    "2. Do prediction using the images in the testing set.\n",
    "3. Write the results into the CSV file for submission."
   ]
  },
  {
   "cell_type": "code",
   "execution_count": null,
   "id": "d2a8f6f703b42a0a",
   "metadata": {
    "collapsed": false,
    "jupyter": {
     "outputs_hidden": false
    }
   },
   "outputs": [],
   "source": [
    "# TODO: 1. Load the saved ResNet18 and move it to the selected device.\n",
    "# Hint: Enable the evaluation mode to prevent updating the parameters.\n",
    "\n",
    "# Load ResNet18 model\n",
    "resnet18 = models.resnet18()\n",
    "resnet18.fc = nn.Linear(resnet18.fc.in_features, num_classes)  # Make sure num_classes is defined\n",
    "resnet18.load_state_dict(torch.load(\"resnet18_checkpoint.pkl\", map_location=device))\n",
    "resnet18.to(device)\n",
    "resnet18.eval()  # Evaluation mode to freeze parameters\n"
   ]
  },
  {
   "cell_type": "code",
   "execution_count": null,
   "id": "44ee908450e937e7",
   "metadata": {
    "ExecuteTime": {
     "end_time": "2025-05-10T03:43:20.873625Z",
     "start_time": "2025-05-10T03:43:18.999813Z"
    },
    "collapsed": false,
    "jupyter": {
     "outputs_hidden": false
    }
   },
   "outputs": [],
   "source": [
    "# TODO: 2. Do prediction using the images in the testing set.\n",
    "from torch.utils.data import TensorDataset, DataLoader\n",
    "\n",
    "# Load tensor\n",
    "tensor_test = torch.load(\"tensor_test.pt\")  # Shape: [N, C, H, W]\n",
    "\n",
    "# Create dummy file names for now (e.g., 0.jpg, 1.jpg, ...)\n",
    "file_names = [f\"{i}.jpg\" for i in range(len(tensor_test))]\n",
    "\n",
    "# Create DataLoader\n",
    "test_dataset = TensorDataset(tensor_test)\n",
    "test_loader = DataLoader(test_dataset, batch_size=64, shuffle=False)\n",
    "\n",
    "predictions = []\n",
    "\n",
    "with torch.no_grad():\n",
    "    for batch in test_loader:\n",
    "        images = batch[0].to(device)\n",
    "        outputs = resnet18(images)\n",
    "        predicted = outputs.argmax(dim=1).cpu().tolist()\n",
    "        predictions.extend(predicted)\n",
    "\n",
    "#check googlecolab_resnet34_resnet18 file"
   ]
  },
  {
   "cell_type": "code",
   "execution_count": null,
   "id": "bee5ddbde0d132cf",
   "metadata": {
    "collapsed": false,
    "jupyter": {
     "outputs_hidden": false
    }
   },
   "outputs": [],
   "source": [
    "# TODO: 3. Write the results into the CSV file for submission.\n",
    "# Hint: The CSV file should be in the format of 'file_name' and 'label'.\n",
    "#       The submission.csv should look like:\n",
    "#           file_name,label\n",
    "#           0.jpg,sunglasses\n",
    "#           ...\n",
    "\n",
    "index_to_label = \n",
    "#check googlecolab_resnet34_resnet18 file"
   ]
  },
  {
   "cell_type": "markdown",
   "id": "3491291b",
   "metadata": {},
   "source": [
    "--- End of part3_submission.ipynb ---"
   ]
  },
  {
   "cell_type": "code",
   "execution_count": 1,
   "id": "2843eea9",
   "metadata": {
    "colab": {
     "base_uri": "https://localhost:8080/",
     "height": 1000
    },
    "executionInfo": {
     "elapsed": 545761,
     "status": "ok",
     "timestamp": 1753070934229,
     "user": {
      "displayName": "wanzi xiao",
      "userId": "16743510789226505921"
     },
     "user_tz": -720
    },
    "id": "pa9wBc8RNq5Z",
    "outputId": "fd8173b0-7903-449e-b87e-fbe425738af2"
   },
   "outputs": [
    {
     "name": "stdout",
     "output_type": "stream",
     "text": [
      "Mounted at /content/drive\n"
     ]
    },
    {
     "name": "stderr",
     "output_type": "stream",
     "text": [
      "Downloading: \"https://download.pytorch.org/models/resnet34-b627a593.pth\" to /root/.cache/torch/hub/checkpoints/resnet34-b627a593.pth\n",
      "100%|██████████| 83.3M/83.3M [00:00<00:00, 189MB/s]\n"
     ]
    },
    {
     "name": "stdout",
     "output_type": "stream",
     "text": [
      "Epoch 1/50 | Train Acc: 0.5452, Train Loss: 1.1918 | Val Acc: 0.5424, Val Loss: 1.1877\n",
      "Epoch 2/50 | Train Acc: 0.6005, Train Loss: 0.9366 | Val Acc: 0.5408, Val Loss: 1.2742\n",
      "Epoch 3/50 | Train Acc: 0.6225, Train Loss: 0.8688 | Val Acc: 0.5991, Val Loss: 0.9949\n",
      "Epoch 4/50 | Train Acc: 0.6553, Train Loss: 0.7616 | Val Acc: 0.6387, Val Loss: 0.8213\n",
      "Epoch 5/50 | Train Acc: 0.6733, Train Loss: 0.7230 | Val Acc: 0.6252, Val Loss: 0.8301\n",
      "Epoch 6/50 | Train Acc: 0.6852, Train Loss: 0.6673 | Val Acc: 0.5893, Val Loss: 1.0483\n",
      "Epoch 7/50 | Train Acc: 0.6934, Train Loss: 0.6680 | Val Acc: 0.6052, Val Loss: 0.9218\n",
      "Epoch 8/50 | Train Acc: 0.7255, Train Loss: 0.5905 | Val Acc: 0.6101, Val Loss: 1.0015\n",
      "Epoch 9/50 | Train Acc: 0.7473, Train Loss: 0.5529 | Val Acc: 0.6073, Val Loss: 0.9637\n",
      "Epoch 10/50 | Train Acc: 0.7771, Train Loss: 0.4992 | Val Acc: 0.5824, Val Loss: 1.2365\n",
      "Epoch 11/50 | Train Acc: 0.8088, Train Loss: 0.4509 | Val Acc: 0.5383, Val Loss: 1.7244\n",
      "Epoch 12/50 | Train Acc: 0.8479, Train Loss: 0.3730 | Val Acc: 0.5371, Val Loss: 1.6519\n",
      "Epoch 13/50 | Train Acc: 0.8684, Train Loss: 0.3354 | Val Acc: 0.5901, Val Loss: 1.5026\n",
      "Epoch 14/50 | Train Acc: 0.9058, Train Loss: 0.2566 | Val Acc: 0.5465, Val Loss: 1.8065\n",
      "Epoch 15/50 | Train Acc: 0.9270, Train Loss: 0.2062 | Val Acc: 0.5824, Val Loss: 1.5320\n",
      "Epoch 16/50 | Train Acc: 0.9416, Train Loss: 0.1678 | Val Acc: 0.5934, Val Loss: 1.8306\n",
      "Epoch 17/50 | Train Acc: 0.9381, Train Loss: 0.1825 | Val Acc: 0.5742, Val Loss: 1.7183\n",
      "Epoch 18/50 | Train Acc: 0.9657, Train Loss: 0.1028 | Val Acc: 0.5502, Val Loss: 2.0850\n",
      "Epoch 19/50 | Train Acc: 0.9684, Train Loss: 0.0913 | Val Acc: 0.6036, Val Loss: 1.9745\n",
      "Epoch 20/50 | Train Acc: 0.9707, Train Loss: 0.0906 | Val Acc: 0.5750, Val Loss: 1.9858\n",
      "Epoch 21/50 | Train Acc: 0.9692, Train Loss: 0.0906 | Val Acc: 0.5881, Val Loss: 2.0876\n",
      "Epoch 22/50 | Train Acc: 0.9675, Train Loss: 0.0999 | Val Acc: 0.5661, Val Loss: 1.8607\n",
      "Epoch 23/50 | Train Acc: 0.9829, Train Loss: 0.0522 | Val Acc: 0.5922, Val Loss: 2.0524\n",
      "Epoch 24/50 | Train Acc: 0.9837, Train Loss: 0.0516 | Val Acc: 0.5759, Val Loss: 2.2016\n",
      "Epoch 25/50 | Train Acc: 0.9717, Train Loss: 0.0833 | Val Acc: 0.5551, Val Loss: 2.3422\n",
      "Epoch 26/50 | Train Acc: 0.9680, Train Loss: 0.0927 | Val Acc: 0.5697, Val Loss: 2.2187\n",
      "Epoch 27/50 | Train Acc: 0.9654, Train Loss: 0.1080 | Val Acc: 0.5632, Val Loss: 2.0018\n",
      "Epoch 28/50 | Train Acc: 0.9751, Train Loss: 0.0796 | Val Acc: 0.5677, Val Loss: 2.1106\n",
      "Epoch 29/50 | Train Acc: 0.9713, Train Loss: 0.0868 | Val Acc: 0.5750, Val Loss: 2.0338\n",
      "Epoch 30/50 | Train Acc: 0.9814, Train Loss: 0.0560 | Val Acc: 0.5905, Val Loss: 2.3029\n",
      "Epoch 31/50 | Train Acc: 0.9814, Train Loss: 0.0598 | Val Acc: 0.5746, Val Loss: 2.1509\n",
      "Epoch 32/50 | Train Acc: 0.9900, Train Loss: 0.0354 | Val Acc: 0.6024, Val Loss: 2.1567\n",
      "Epoch 33/50 | Train Acc: 0.9904, Train Loss: 0.0306 | Val Acc: 0.5799, Val Loss: 2.2116\n",
      "Epoch 34/50 | Train Acc: 0.9887, Train Loss: 0.0337 | Val Acc: 0.5722, Val Loss: 2.4991\n",
      "Epoch 35/50 | Train Acc: 0.9828, Train Loss: 0.0523 | Val Acc: 0.5355, Val Loss: 2.5118\n",
      "Epoch 36/50 | Train Acc: 0.9641, Train Loss: 0.1082 | Val Acc: 0.5926, Val Loss: 2.3035\n",
      "Epoch 37/50 | Train Acc: 0.9746, Train Loss: 0.0822 | Val Acc: 0.5922, Val Loss: 2.1033\n",
      "Epoch 38/50 | Train Acc: 0.9891, Train Loss: 0.0308 | Val Acc: 0.5999, Val Loss: 2.2093\n",
      "Epoch 39/50 | Train Acc: 0.9933, Train Loss: 0.0211 | Val Acc: 0.5967, Val Loss: 2.3341\n",
      "Epoch 40/50 | Train Acc: 0.9792, Train Loss: 0.0629 | Val Acc: 0.5873, Val Loss: 2.4706\n",
      "Epoch 41/50 | Train Acc: 0.9836, Train Loss: 0.0483 | Val Acc: 0.5763, Val Loss: 2.4550\n",
      "Epoch 42/50 | Train Acc: 0.9833, Train Loss: 0.0509 | Val Acc: 0.5779, Val Loss: 2.6297\n",
      "Epoch 43/50 | Train Acc: 0.9861, Train Loss: 0.0385 | Val Acc: 0.5991, Val Loss: 2.1819\n",
      "Epoch 44/50 | Train Acc: 0.9861, Train Loss: 0.0420 | Val Acc: 0.5975, Val Loss: 2.3268\n",
      "Epoch 45/50 | Train Acc: 0.9807, Train Loss: 0.0560 | Val Acc: 0.5775, Val Loss: 2.5062\n",
      "Epoch 46/50 | Train Acc: 0.9876, Train Loss: 0.0368 | Val Acc: 0.5828, Val Loss: 2.7107\n",
      "Epoch 47/50 | Train Acc: 0.9872, Train Loss: 0.0406 | Val Acc: 0.5808, Val Loss: 2.8200\n",
      "Epoch 48/50 | Train Acc: 0.9841, Train Loss: 0.0459 | Val Acc: 0.5893, Val Loss: 2.5357\n",
      "Epoch 49/50 | Train Acc: 0.9850, Train Loss: 0.0443 | Val Acc: 0.5832, Val Loss: 2.3472\n",
      "Epoch 50/50 | Train Acc: 0.9861, Train Loss: 0.0410 | Val Acc: 0.5889, Val Loss: 2.7059\n"
     ]
    },
    {
     "data": {
      "image/png": "[encoded data removed]",
      "text/plain": [
       "<Figure size 1200x500 with 2 Axes>"
      ]
     },
     "metadata": {},
     "output_type": "display_data"
    }
   ],
   "source": [
    "# Imports\n",
    "import matplotlib.pyplot as plt\n",
    "import torch\n",
    "import torch.nn as nn\n",
    "import torchvision.models as models\n",
    "from torchvision.models import resnet34, ResNet34_Weights\n",
    "from torch.utils.data import TensorDataset, DataLoader\n",
    "import json\n",
    "import copy\n",
    "import os\n",
    "import torch.optim as optim\n",
    "\n",
    "# Mount Google Drive and change to project path\n",
    "from google.colab import drive\n",
    "drive.mount('/content/drive')\n",
    "project_path = '/content/drive/MyDrive'\n",
    "os.chdir(project_path)\n",
    "\n",
    "# Load preprocessed data\n",
    "tensor_train = torch.load('/content/drive/MyDrive/tensor_train.pt')\n",
    "tensor_val = torch.load('/content/drive/MyDrive/tensor_val.pt')\n",
    "tensor_test = torch.load('/content/drive/MyDrive/tensor_test.pt')\n",
    "labels_train_index = torch.load('/content/drive/MyDrive/labels_train.pt')\n",
    "labels_val_index = torch.load('/content/drive/MyDrive/labels_val.pt')\n",
    "\n",
    "\n",
    "# Align label sizes just in case\n",
    "labels_train_index = labels_train_index[:tensor_train.shape[0]]\n",
    "labels_val_index = labels_val_index[:tensor_val.shape[0]]\n",
    "\n",
    "# Create datasets and loaders\n",
    "BATCH_SIZE = 64\n",
    "train_dataset = TensorDataset(tensor_train, labels_train_index)\n",
    "val_dataset = TensorDataset(tensor_val, labels_val_index)\n",
    "train_loader = DataLoader(train_dataset, batch_size=BATCH_SIZE, shuffle=True)\n",
    "val_loader = DataLoader(val_dataset, batch_size=BATCH_SIZE)\n",
    "\n",
    "# Setup device (GPU if available)\n",
    "device = torch.device(\"cuda\" if torch.cuda.is_available() else \"cpu\")\n",
    "\n",
    "# Load pretrained ResNet34 and modify final FC layer\n",
    "resnet34 = resnet34(weights=ResNet34_Weights.DEFAULT)\n",
    "resnet34.fc = nn.Sequential(\n",
    "    nn.Dropout(0.5),                      # Dropout layer\n",
    "    nn.Linear(resnet34.fc.in_features, len(torch.unique(labels_train_index)))\n",
    ")\n",
    "resnet34.to(device)\n",
    "\n",
    "# Define optimizer and loss\n",
    "optimizer = torch.optim.Adam(resnet34.parameters(), lr=0.001, weight_decay=1e-5)\n",
    "criterion = nn.CrossEntropyLoss()\n",
    "\n",
    "# Training loop\n",
    "EPOCHS = 50\n",
    "train_accs, val_accs = [], []\n",
    "train_losses, val_losses = [], []\n",
    "best_acc = 0.0\n",
    "best_model = None\n",
    "\n",
    "for epoch in range(EPOCHS):\n",
    "    resnet34.train()\n",
    "    correct = total = epoch_loss = 0\n",
    "\n",
    "    for X, y in train_loader:\n",
    "        X, y = X.to(device), y.to(device)\n",
    "        optimizer.zero_grad()\n",
    "        out = resnet34(X)\n",
    "        loss = criterion(out, y)\n",
    "        loss.backward()\n",
    "        optimizer.step()\n",
    "\n",
    "        pred = out.argmax(1)\n",
    "        correct += (pred == y).sum().item()\n",
    "        total += y.size(0)\n",
    "        epoch_loss += loss.item()\n",
    "\n",
    "    train_acc = correct / total\n",
    "    train_loss = epoch_loss / len(train_loader)\n",
    "    train_accs.append(train_acc)\n",
    "    train_losses.append(train_loss)\n",
    "\n",
    "    # Validation\n",
    "    resnet34.eval()\n",
    "    correct = total = val_loss = 0\n",
    "    with torch.no_grad():\n",
    "        for X, y in val_loader:\n",
    "            X, y = X.to(device), y.to(device)\n",
    "            out = resnet34(X)\n",
    "            loss = criterion(out, y)\n",
    "            pred = out.argmax(1)\n",
    "            correct += (pred == y).sum().item()\n",
    "            val_loss += loss.item()\n",
    "            total += y.size(0)\n",
    "\n",
    "    val_acc = correct / total\n",
    "    val_loss = val_loss / len(val_loader)\n",
    "    val_accs.append(val_acc)\n",
    "    val_losses.append(val_loss)\n",
    "\n",
    "    print(f\"Epoch {epoch+1}/{EPOCHS} | \"\n",
    "      f\"Train Acc: {train_acc:.4f}, Train Loss: {train_loss:.4f} | \"\n",
    "      f\"Val Acc: {val_acc:.4f}, Val Loss: {val_loss:.4f}\")\n",
    "\n",
    "    # Save best model\n",
    "    if val_acc > best_acc:\n",
    "        best_acc = val_acc\n",
    "        best_model = copy.deepcopy(resnet34.state_dict())\n",
    "        torch.save(best_model, \"resnet34_checkpoint.pkl\")  # saved in Google Drive\n",
    "\n",
    "# Plot accuracy and loss\n",
    "plt.figure(figsize=(12, 5))\n",
    "\n",
    "# Accuracy plot\n",
    "plt.subplot(1, 2, 1)\n",
    "plt.plot(range(1, EPOCHS + 1), train_accs, label='Train Accuracy')\n",
    "plt.plot(range(1, EPOCHS + 1), val_accs, label='Validation Accuracy')\n",
    "plt.title('Model Accuracy')\n",
    "plt.xlabel('Epoch')\n",
    "plt.ylabel('Accuracy')\n",
    "plt.legend()\n",
    "\n",
    "# Loss plot\n",
    "plt.subplot(1, 2, 2)\n",
    "plt.plot(range(1, EPOCHS + 1), train_losses, label='Train Loss')\n",
    "plt.plot(range(1, EPOCHS + 1), val_losses, label='Validation Loss')\n",
    "plt.title('Model Loss')\n",
    "plt.xlabel('Epoch')\n",
    "plt.ylabel('Loss')\n",
    "plt.legend()\n",
    "\n",
    "plt.tight_layout()\n",
    "plt.show()\n",
    "\n"
   ]
  },
  {
   "cell_type": "code",
   "execution_count": 2,
   "id": "92702882",
   "metadata": {
    "colab": {
     "base_uri": "https://localhost:8080/",
     "height": 1000
    },
    "executionInfo": {
     "elapsed": 391480,
     "status": "ok",
     "timestamp": 1753071325715,
     "user": {
      "displayName": "wanzi xiao",
      "userId": "16743510789226505921"
     },
     "user_tz": -720
    },
    "id": "xHcKUa01Mxwa",
    "outputId": "86505685-76f6-418f-e617-277071720fb3"
   },
   "outputs": [
    {
     "name": "stdout",
     "output_type": "stream",
     "text": [
      "Epoch 1/50 - Train Acc: 0.3524, Train Loss: 4.1583, Val Acc: 0.4086, Val Loss: 2.1679\n",
      "Epoch 2/50 - Train Acc: 0.4437, Train Loss: 3.1418, Val Acc: 0.4209, Val Loss: 2.0210\n",
      "Epoch 3/50 - Train Acc: 0.4738, Train Loss: 2.6030, Val Acc: 0.4682, Val Loss: 1.9327\n",
      "Epoch 4/50 - Train Acc: 0.5109, Train Loss: 2.1075, Val Acc: 0.5061, Val Loss: 1.5653\n",
      "Epoch 5/50 - Train Acc: 0.5309, Train Loss: 1.8666, Val Acc: 0.5033, Val Loss: 1.6882\n",
      "Epoch 6/50 - Train Acc: 0.5447, Train Loss: 1.6283, Val Acc: 0.5746, Val Loss: 1.2326\n",
      "Epoch 7/50 - Train Acc: 0.5638, Train Loss: 1.4787, Val Acc: 0.5636, Val Loss: 1.1569\n",
      "Epoch 8/50 - Train Acc: 0.5767, Train Loss: 1.3618, Val Acc: 0.5632, Val Loss: 1.2733\n",
      "Epoch 9/50 - Train Acc: 0.5951, Train Loss: 1.1785, Val Acc: 0.5363, Val Loss: 1.3471\n",
      "Epoch 10/50 - Train Acc: 0.5973, Train Loss: 1.1032, Val Acc: 0.5865, Val Loss: 1.1484\n",
      "Epoch 11/50 - Train Acc: 0.6428, Train Loss: 0.7976, Val Acc: 0.6073, Val Loss: 0.9994\n",
      "Epoch 12/50 - Train Acc: 0.6505, Train Loss: 0.7294, Val Acc: 0.6105, Val Loss: 1.0013\n",
      "Epoch 13/50 - Train Acc: 0.6468, Train Loss: 0.7119, Val Acc: 0.6109, Val Loss: 0.9730\n",
      "Epoch 14/50 - Train Acc: 0.6521, Train Loss: 0.6806, Val Acc: 0.6105, Val Loss: 0.9826\n",
      "Epoch 15/50 - Train Acc: 0.6586, Train Loss: 0.6428, Val Acc: 0.6048, Val Loss: 0.9929\n",
      "Epoch 16/50 - Train Acc: 0.6625, Train Loss: 0.6257, Val Acc: 0.6048, Val Loss: 0.9711\n",
      "Epoch 17/50 - Train Acc: 0.6668, Train Loss: 0.6202, Val Acc: 0.6044, Val Loss: 0.9753\n",
      "Epoch 18/50 - Train Acc: 0.6702, Train Loss: 0.5883, Val Acc: 0.6007, Val Loss: 0.9619\n",
      "Epoch 19/50 - Train Acc: 0.6756, Train Loss: 0.5817, Val Acc: 0.6032, Val Loss: 0.9682\n",
      "Epoch 20/50 - Train Acc: 0.6728, Train Loss: 0.5357, Val Acc: 0.6011, Val Loss: 0.9802\n",
      "Epoch 21/50 - Train Acc: 0.6810, Train Loss: 0.5272, Val Acc: 0.6126, Val Loss: 0.9641\n",
      "Epoch 22/50 - Train Acc: 0.6808, Train Loss: 0.5048, Val Acc: 0.6073, Val Loss: 0.9705\n",
      "Epoch 23/50 - Train Acc: 0.6853, Train Loss: 0.5056, Val Acc: 0.6126, Val Loss: 0.9519\n",
      "Epoch 24/50 - Train Acc: 0.6905, Train Loss: 0.4941, Val Acc: 0.6097, Val Loss: 0.9517\n",
      "Epoch 25/50 - Train Acc: 0.6870, Train Loss: 0.4965, Val Acc: 0.6073, Val Loss: 0.9628\n",
      "Epoch 26/50 - Train Acc: 0.6910, Train Loss: 0.4944, Val Acc: 0.6073, Val Loss: 0.9536\n",
      "Epoch 27/50 - Train Acc: 0.6860, Train Loss: 0.4921, Val Acc: 0.6093, Val Loss: 0.9567\n",
      "Epoch 28/50 - Train Acc: 0.6893, Train Loss: 0.4889, Val Acc: 0.6048, Val Loss: 0.9691\n",
      "Epoch 29/50 - Train Acc: 0.6893, Train Loss: 0.4926, Val Acc: 0.6069, Val Loss: 0.9590\n",
      "Epoch 30/50 - Train Acc: 0.6881, Train Loss: 0.4940, Val Acc: 0.6052, Val Loss: 0.9526\n",
      "Epoch 31/50 - Train Acc: 0.6896, Train Loss: 0.4894, Val Acc: 0.6089, Val Loss: 0.9478\n",
      "Epoch 32/50 - Train Acc: 0.6970, Train Loss: 0.4768, Val Acc: 0.6122, Val Loss: 0.9505\n",
      "Epoch 33/50 - Train Acc: 0.6940, Train Loss: 0.4764, Val Acc: 0.6040, Val Loss: 0.9584\n",
      "Epoch 34/50 - Train Acc: 0.6920, Train Loss: 0.4782, Val Acc: 0.6101, Val Loss: 0.9671\n",
      "Epoch 35/50 - Train Acc: 0.6885, Train Loss: 0.4871, Val Acc: 0.6040, Val Loss: 0.9740\n",
      "Epoch 36/50 - Train Acc: 0.6935, Train Loss: 0.4909, Val Acc: 0.6085, Val Loss: 0.9518\n",
      "Epoch 37/50 - Train Acc: 0.6935, Train Loss: 0.4760, Val Acc: 0.6069, Val Loss: 0.9715\n",
      "Epoch 38/50 - Train Acc: 0.6915, Train Loss: 0.4702, Val Acc: 0.6093, Val Loss: 0.9664\n",
      "Epoch 39/50 - Train Acc: 0.6918, Train Loss: 0.4795, Val Acc: 0.6077, Val Loss: 0.9577\n",
      "Epoch 40/50 - Train Acc: 0.6896, Train Loss: 0.4876, Val Acc: 0.6048, Val Loss: 0.9562\n",
      "Epoch 41/50 - Train Acc: 0.6896, Train Loss: 0.4795, Val Acc: 0.6081, Val Loss: 0.9503\n",
      "Epoch 42/50 - Train Acc: 0.6956, Train Loss: 0.4687, Val Acc: 0.6052, Val Loss: 0.9530\n",
      "Epoch 43/50 - Train Acc: 0.6899, Train Loss: 0.4798, Val Acc: 0.6089, Val Loss: 0.9607\n",
      "Epoch 44/50 - Train Acc: 0.6945, Train Loss: 0.4840, Val Acc: 0.6085, Val Loss: 0.9494\n",
      "Epoch 45/50 - Train Acc: 0.6899, Train Loss: 0.4821, Val Acc: 0.6048, Val Loss: 0.9527\n",
      "Epoch 46/50 - Train Acc: 0.6914, Train Loss: 0.4778, Val Acc: 0.6064, Val Loss: 0.9496\n",
      "Epoch 47/50 - Train Acc: 0.6945, Train Loss: 0.4802, Val Acc: 0.6085, Val Loss: 0.9507\n",
      "Epoch 48/50 - Train Acc: 0.6894, Train Loss: 0.4815, Val Acc: 0.6097, Val Loss: 0.9562\n",
      "Epoch 49/50 - Train Acc: 0.6877, Train Loss: 0.4809, Val Acc: 0.6060, Val Loss: 0.9558\n",
      "Epoch 50/50 - Train Acc: 0.6930, Train Loss: 0.4735, Val Acc: 0.6060, Val Loss: 0.9523\n"
     ]
    },
    {
     "data": {
      "image/png": "[encoded data removed]",
      "text/plain": [
       "<Figure size 1200x500 with 2 Axes>"
      ]
     },
     "metadata": {},
     "output_type": "display_data"
    }
   ],
   "source": [
    "# Imports\n",
    "import torch\n",
    "import torch.nn as nn\n",
    "import torch.nn.functional as F\n",
    "from torch.utils.data import DataLoader, TensorDataset\n",
    "import torchvision.models as models\n",
    "import matplotlib.pyplot as plt\n",
    "import copy\n",
    "import torch.optim as optim\n",
    "\n",
    "# Load tensors\n",
    "tensor_train = torch.load('tensor_train.pt')\n",
    "tensor_val = torch.load('tensor_val.pt')\n",
    "labels_train = torch.load('labels_train.pt')\n",
    "labels_val = torch.load('labels_val.pt')\n",
    "\n",
    "# Match labels to tensors\n",
    "labels_train = labels_train[:tensor_train.shape[0]]\n",
    "labels_val = labels_val[:tensor_val.shape[0]]\n",
    "\n",
    "# Datasets and loaders\n",
    "BATCH_SIZE = 64\n",
    "train_dataset = TensorDataset(tensor_train, labels_train)\n",
    "val_dataset = TensorDataset(tensor_val, labels_val)\n",
    "train_loader = DataLoader(train_dataset, batch_size=BATCH_SIZE, shuffle=True)\n",
    "val_loader = DataLoader(val_dataset, batch_size=BATCH_SIZE)\n",
    "\n",
    "\n",
    "# Load trained ResNet34 as Teacher\n",
    "# === Load ResNet34 and match architecture with saved checkpoint ===\n",
    "resnet34 = models.resnet34(weights=models.ResNet34_Weights.DEFAULT)\n",
    "resnet34.fc = nn.Sequential(\n",
    "    nn.Dropout(0.5),\n",
    "    nn.Linear(resnet34.fc.in_features, len(torch.unique(labels_train)))\n",
    ")\n",
    "\n",
    "# Load the trained model weights (checkpoint must match this architecture)\n",
    "checkpoint_path = '/content/drive/MyDrive/resnet34_checkpoint.pkl'\n",
    "resnet34.load_state_dict(torch.load(checkpoint_path, map_location=device))\n",
    "resnet34.to(device)\n",
    "resnet34.eval()\n",
    "\n",
    "# Create Student: ResNet18 (non-pretrained)\n",
    "resnet18 = models.resnet18(weights=None)  # NO pretrained weights\n",
    "resnet18.fc = nn.Linear(resnet18.fc.in_features, len(torch.unique(labels_train)))\n",
    "resnet18.to(device)\n",
    "\n",
    "# Define optimizer\n",
    "optimizer = optim.Adam(resnet18.parameters(), lr=0.001)\n",
    "\n",
    "# Learning rate scheduler\n",
    "scheduler = optim.lr_scheduler.StepLR(optimizer, step_size=10, gamma=0.1)\n",
    "\n",
    "# Cross-Entropy Loss (for ground truth supervision)\n",
    "criterion_ce = nn.CrossEntropyLoss()\n",
    "\n",
    "\n",
    "# Knowledge Distillation params\n",
    "T = 4.0       # Temperature\n",
    "alpha = 0.7   # Blend between KD and CE loss\n",
    "\n",
    "# Training loop\n",
    "EPOCHS = 50\n",
    "train_accs, train_losses = [], []\n",
    "val_accs, val_losses = [], []\n",
    "best_acc = 0.0\n",
    "best_model = None\n",
    "\n",
    "for epoch in range(EPOCHS):\n",
    "    resnet18.train()\n",
    "    total = correct = epoch_loss = 0\n",
    "\n",
    "    for X, y in train_loader:\n",
    "        X, y = X.to(device), y.to(device)\n",
    "        optimizer.zero_grad()\n",
    "\n",
    "        # Student forward\n",
    "        student_out = resnet18(X)\n",
    "\n",
    "        # Teacher forward (no gradient update)\n",
    "        with torch.no_grad():\n",
    "            teacher_out = resnet34(X)\n",
    "\n",
    "        # Calculate losses\n",
    "        loss_ce = criterion_ce(student_out, y)\n",
    "        loss_kd = F.kl_div(\n",
    "            F.log_softmax(student_out / T, dim=1),\n",
    "            F.softmax(teacher_out / T, dim=1),\n",
    "            reduction='batchmean'\n",
    "        ) * (T * T)\n",
    "\n",
    "        # Combine the losses\n",
    "        loss = alpha * loss_kd + (1 - alpha) * loss_ce\n",
    "        loss.backward()\n",
    "        optimizer.step()\n",
    "\n",
    "        pred = student_out.argmax(1)\n",
    "        correct += (pred == y).sum().item()\n",
    "        total += y.size(0)\n",
    "        epoch_loss += loss.item()\n",
    "\n",
    "    scheduler.step()\n",
    "\n",
    "    train_acc = correct / total\n",
    "    train_loss = epoch_loss / len(train_loader)\n",
    "    train_accs.append(train_acc)\n",
    "    train_losses.append(train_loss)\n",
    "\n",
    "    # Validation\n",
    "    resnet18.eval()\n",
    "    correct = total = val_loss = 0\n",
    "    with torch.no_grad():\n",
    "        for X, y in val_loader:\n",
    "            X, y = X.to(device), y.to(device)\n",
    "            out = resnet18(X)\n",
    "            loss = criterion_ce(out, y)\n",
    "            pred = out.argmax(1)\n",
    "            correct += (pred == y).sum().item()\n",
    "            val_loss += loss.item()\n",
    "            total += y.size(0)\n",
    "\n",
    "    val_acc = correct / total\n",
    "    val_loss = val_loss / len(val_loader)\n",
    "    val_accs.append(val_acc)\n",
    "    val_losses.append(val_loss)\n",
    "\n",
    "    print(f\"Epoch {epoch+1}/{EPOCHS} - Train Acc: {train_acc:.4f}, Train Loss: {train_loss:.4f}, Val Acc: {val_acc:.4f}, Val Loss: {val_loss:.4f}\")\n",
    "\n",
    "    if val_acc > best_acc:\n",
    "        best_acc = val_acc\n",
    "        best_model = resnet18.state_dict()\n",
    "        torch.save(best_model, \"resnet18_checkpoint.pkl\")\n",
    "\n",
    "# Plot accuracy and loss\n",
    "plt.figure(figsize=(12, 5))\n",
    "\n",
    "plt.subplot(1, 2, 1)\n",
    "plt.plot(train_accs, label='Train Acc')\n",
    "plt.plot(val_accs, label='Val Acc')\n",
    "plt.xlabel('Epoch')\n",
    "plt.ylabel('Accuracy')\n",
    "plt.legend()\n",
    "plt.title('Accuracy over Epochs')\n",
    "\n",
    "plt.subplot(1, 2, 2)\n",
    "plt.plot(train_losses, label='Train Loss')\n",
    "plt.plot(val_losses, label='Val Loss')\n",
    "plt.xlabel('Epoch')\n",
    "plt.ylabel('Loss')\n",
    "plt.legend()\n",
    "plt.title('Loss over Epochs')\n",
    "\n",
    "plt.tight_layout()\n",
    "plt.show()"
   ]
  },
  {
   "cell_type": "code",
   "execution_count": 3,
   "id": "b9097089",
   "metadata": {
    "colab": {
     "base_uri": "https://localhost:8080/"
    },
    "executionInfo": {
     "elapsed": 57,
     "status": "ok",
     "timestamp": 1753071325776,
     "user": {
      "displayName": "wanzi xiao",
      "userId": "16743510789226505921"
     },
     "user_tz": -720
    },
    "id": "tDBQa6wanUvS",
    "outputId": "df5d325b-887f-4cc5-a223-23368ed691d1"
   },
   "outputs": [
    {
     "name": "stdout",
     "output_type": "stream",
     "text": [
      "Unique classes: tensor([0, 1, 2, 3, 4, 5, 6, 7, 8, 9])\n",
      "Number of classes: 10\n"
     ]
    }
   ],
   "source": [
    "# Load the training labels\n",
    "labels_train = torch.load(\"labels_train.pt\")\n",
    "\n",
    "# Find the unique classes\n",
    "unique_labels = torch.unique(labels_train)\n",
    "num_classes = len(unique_labels)\n",
    "\n",
    "print(\"Unique classes:\", unique_labels)\n",
    "print(\"Number of classes:\", num_classes)"
   ]
  },
  {
   "cell_type": "code",
   "execution_count": 4,
   "id": "efaf86e4",
   "metadata": {
    "executionInfo": {
     "elapsed": 9506,
     "status": "ok",
     "timestamp": 1753071335284,
     "user": {
      "displayName": "wanzi xiao",
      "userId": "16743510789226505921"
     },
     "user_tz": -720
    },
    "id": "m6s5rGI9qjcU"
   },
   "outputs": [],
   "source": [
    "import torch\n",
    "import torch.nn as nn\n",
    "from torchvision import models\n",
    "import csv\n",
    "\n",
    "# 1. Set up device\n",
    "device = torch.device(\"cuda\" if torch.cuda.is_available() else \"cpu\")\n",
    "\n",
    "# 2. Load the number of classes\n",
    "labels_train = torch.load(\"labels_train.pt\")\n",
    "unique_labels = torch.unique(labels_train)\n",
    "num_classes = len(unique_labels)\n",
    "\n",
    "# 3. Load test data\n",
    "tensor_test = torch.load(\"tensor_test.pt\")\n",
    "\n",
    "# 4. Define model architecture\n",
    "resnet18 = models.resnet18(weights=None)\n",
    "resnet18.fc = nn.Linear(resnet18.fc.in_features, num_classes)\n",
    "\n",
    "# 5. Load saved model parameters\n",
    "resnet18.load_state_dict(torch.load(\"resnet18_checkpoint.pkl\", map_location=device))\n",
    "resnet18.to(device)\n",
    "resnet18.eval()\n",
    "\n",
    "# 6. Predict labels\n",
    "predictions = []\n",
    "with torch.no_grad():\n",
    "    for i in range(len(tensor_test)):\n",
    "        img = tensor_test[i].unsqueeze(0).to(device)  # add batch dimension\n",
    "        output = resnet18(img)\n",
    "        pred = output.argmax(1).item()\n",
    "        predictions.append(pred)\n",
    "\n",
    "# 7. Define index-to-label mapping\n",
    "index_to_label = {\n",
    "    0: \"african_elephant\",\n",
    "    1: \"airliner\",\n",
    "    2: \"banana\",\n",
    "    3: \"convertible_car\",\n",
    "    4: \"golden_retriever\",\n",
    "    5: \"goldfish\",\n",
    "    6: \"parachute\",\n",
    "    7: \"rugby\",\n",
    "    8: \"sunglasses\",\n",
    "    9: \"tiger_cat\"\n",
    "}\n",
    "\n",
    "# 8. Save predictions to CSV\n",
    "with open('submission.csv', mode='w', newline='') as file:\n",
    "    writer = csv.writer(file)\n",
    "    writer.writerow(['file_name', 'label'])\n",
    "\n",
    "    for i, pred in enumerate(predictions):\n",
    "        label_name = index_to_label[int(pred)]\n",
    "        writer.writerow([f\"{i}.jpg\", label_name])\n"
   ]
  },
  {
   "cell_type": "code",
   "execution_count": 6,
   "id": "e5e4bbb2",
   "metadata": {
    "colab": {
     "base_uri": "https://localhost:8080/"
    },
    "executionInfo": {
     "elapsed": 7755,
     "status": "ok",
     "timestamp": 1753071415615,
     "user": {
      "displayName": "wanzi xiao",
      "userId": "16743510789226505921"
     },
     "user_tz": -720
    },
    "id": "5T-ZNw0BMq4a",
    "outputId": "6dec4942-e991-44e7-eab5-8e158b3fbb8b"
   },
   "outputs": [
    {
     "name": "stdout",
     "output_type": "stream",
     "text": [
      "Collecting GPUtil\n",
      "  Downloading GPUtil-1.4.0.tar.gz (5.5 kB)\n",
      "  Preparing metadata (setup.py) ... \u001b[?25l\u001b[?25hdone\n",
      "Building wheels for collected packages: GPUtil\n",
      "  Building wheel for GPUtil (setup.py) ... \u001b[?25l\u001b[?25hdone\n",
      "  Created wheel for GPUtil: filename=GPUtil-1.4.0-py3-none-any.whl size=7392 sha256=4da21e3358518766ca4955af8976586f712d172096ed572d992d6d5c1271aace\n",
      "  Stored in directory: /root/.cache/pip/wheels/2b/4d/8f/55fb4f7b9b591891e8d3f72977c4ec6c7763b39c19f0861595\n",
      "Successfully built GPUtil\n",
      "Installing collected packages: GPUtil\n",
      "Successfully installed GPUtil-1.4.0\n"
     ]
    }
   ],
   "source": [
    "!pip install GPUtil"
   ]
  },
  {
   "cell_type": "code",
   "execution_count": 7,
   "id": "1fdab557",
   "metadata": {
    "colab": {
     "base_uri": "https://localhost:8080/"
    },
    "executionInfo": {
     "elapsed": 3250,
     "status": "ok",
     "timestamp": 1753071419910,
     "user": {
      "displayName": "wanzi xiao",
      "userId": "16743510789226505921"
     },
     "user_tz": -720
    },
    "id": "AKm-jPdBtbLs",
    "outputId": "e8f592d2-03d2-43ef-fb86-6730c100bad2"
   },
   "outputs": [
    {
     "name": "stdout",
     "output_type": "stream",
     "text": [
      "Initial GPU Info:\n",
      "GPU 0 - NVIDIA A100-SXM4-40GB\n",
      "  Load: 0.0%\n",
      "  Free Memory: 36574.0MB / 40960.0MB\n",
      "  Used Memory: 3931.0MB\n",
      "\n",
      "\n",
      "--- ResNet34 ---\n",
      "ResNet34 Total Parameters: 21,797,672\n",
      "ResNet34 Trainable Parameters: 21,797,672\n",
      "ResNet34 Estimated Model Size: 83.15 MB\n",
      "\n",
      "ResNet34 Inference Time: 5.16 ms/image\n",
      "ResNet34 GPU Memory Used: 4.00 MB\n",
      "\n",
      "ResNet34 Avg Training Time per batch: 0.036 s\n",
      "ResNet34 GPU Memory Used: 3194.00 MB\n",
      "\n",
      "\n",
      "--- ResNet18 ---\n",
      "ResNet18 Total Parameters: 11,689,512\n",
      "ResNet18 Trainable Parameters: 11,689,512\n",
      "ResNet18 Estimated Model Size: 44.59 MB\n",
      "\n",
      "ResNet18 Inference Time: 2.84 ms/image\n",
      "ResNet18 GPU Memory Used: 4.00 MB\n",
      "\n",
      "ResNet18 Avg Training Time per batch: 0.020 s\n",
      "ResNet18 GPU Memory Used: 2574.00 MB\n",
      "\n",
      "Final GPU Info:\n",
      "GPU 0 - NVIDIA A100-SXM4-40GB\n",
      "  Load: 100.0%\n",
      "  Free Memory: 39552.0MB / 40960.0MB\n",
      "  Used Memory: 953.0MB\n",
      "\n"
     ]
    }
   ],
   "source": [
    "import torch\n",
    "import torchvision.models as models\n",
    "import time\n",
    "import GPUtil\n",
    "import gc\n",
    "\n",
    "# Set device (GPU if available)\n",
    "device = torch.device(\"cuda\" if torch.cuda.is_available() else \"cpu\")\n",
    "\n",
    "# Get current GPU memory usage (in MB)\n",
    "def get_current_gpu_memory():\n",
    "    gpus = GPUtil.getGPUs()\n",
    "    if gpus:\n",
    "        return gpus[0].memoryUsed\n",
    "    return 0\n",
    "\n",
    "# Print model size and parameters\n",
    "def model_stats(model, model_name=\"Model\"):\n",
    "    total_params = sum(p.numel() for p in model.parameters())\n",
    "    trainable_params = sum(p.numel() for p in model.parameters() if p.requires_grad)\n",
    "    size_MB = total_params * 4 / (1024 ** 2)  # 4 bytes per float32\n",
    "    print(f\"{model_name} Total Parameters: {total_params:,}\")\n",
    "    print(f\"{model_name} Trainable Parameters: {trainable_params:,}\")\n",
    "    print(f\"{model_name} Estimated Model Size: {size_MB:.2f} MB\\n\")\n",
    "\n",
    "# GPU info\n",
    "def get_gpu_info():\n",
    "    try:\n",
    "        gpus = GPUtil.getGPUs()\n",
    "        for gpu in gpus:\n",
    "            print(f\"GPU {gpu.id} - {gpu.name}\")\n",
    "            print(f\"  Load: {gpu.load*100:.1f}%\")\n",
    "            print(f\"  Free Memory: {gpu.memoryFree}MB / {gpu.memoryTotal}MB\")\n",
    "            print(f\"  Used Memory: {gpu.memoryUsed}MB\\n\")\n",
    "    except:\n",
    "        print(\"No GPU or GPUtil not installed properly.\")\n",
    "\n",
    "# Inference time + GPU usage\n",
    "def inference_time_with_gpu(model, model_name=\"Model\", input_size=(1, 3, 224, 224)):\n",
    "    model.eval()\n",
    "    model.to(device)\n",
    "    dummy_input = torch.randn(*input_size).to(device)\n",
    "\n",
    "    torch.cuda.empty_cache()\n",
    "    gc.collect()\n",
    "    before_mem = get_current_gpu_memory()\n",
    "\n",
    "    with torch.no_grad():\n",
    "        start = time.time()\n",
    "        for _ in range(100):\n",
    "            _ = model(dummy_input)\n",
    "        end = time.time()\n",
    "\n",
    "    after_mem = get_current_gpu_memory()\n",
    "    avg_time = (end - start) / 100\n",
    "    print(f\"{model_name} Inference Time: {avg_time*1000:.2f} ms/image\")\n",
    "    print(f\"{model_name} GPU Memory Used: {after_mem - before_mem:.2f} MB\\n\")\n",
    "\n",
    "# Training time + GPU usage\n",
    "def training_time_with_gpu(model, model_name=\"Model\", input_size=(64, 3, 224, 224), num_classes=10):\n",
    "    model.train()\n",
    "    model.to(device)\n",
    "    criterion = torch.nn.CrossEntropyLoss()\n",
    "    optimizer = torch.optim.Adam(model.parameters(), lr=0.001)\n",
    "    dummy_input = torch.randn(*input_size).to(device)\n",
    "    dummy_target = torch.randint(0, num_classes, (input_size[0],)).to(device)\n",
    "\n",
    "    torch.cuda.empty_cache()\n",
    "    gc.collect()\n",
    "    before_mem = get_current_gpu_memory()\n",
    "\n",
    "    start = time.time()\n",
    "    for _ in range(10):  # simulate 10 batches\n",
    "        optimizer.zero_grad()\n",
    "        output = model(dummy_input)\n",
    "        loss = criterion(output, dummy_target)\n",
    "        loss.backward()\n",
    "        optimizer.step()\n",
    "    end = time.time()\n",
    "\n",
    "    after_mem = get_current_gpu_memory()\n",
    "    avg_time = (end - start) / 10\n",
    "    print(f\"{model_name} Avg Training Time per batch: {avg_time:.3f} s\")\n",
    "    print(f\"{model_name} GPU Memory Used: {after_mem - before_mem:.2f} MB\\n\")\n",
    "\n",
    "# Run for a given model\n",
    "def run_model_analysis(model_class, model_name):\n",
    "    print(f\"\\n--- {model_name} ---\")\n",
    "    model = model_class()\n",
    "    model_stats(model, model_name)\n",
    "    inference_time_with_gpu(model, model_name)\n",
    "    training_time_with_gpu(model, model_name)\n",
    "    del model\n",
    "    torch.cuda.empty_cache()\n",
    "    gc.collect()\n",
    "\n",
    "# Main\n",
    "print(\"Initial GPU Info:\")\n",
    "get_gpu_info()\n",
    "\n",
    "run_model_analysis(models.resnet34, \"ResNet34\")\n",
    "run_model_analysis(models.resnet18, \"ResNet18\")\n",
    "\n",
    "print(\"Final GPU Info:\")\n",
    "get_gpu_info()\n"
   ]
  },
  {
   "cell_type": "code",
   "execution_count": 8,
   "id": "1eca3aa5",
   "metadata": {
    "colab": {
     "base_uri": "https://localhost:8080/"
    },
    "executionInfo": {
     "elapsed": 3533,
     "status": "ok",
     "timestamp": 1753071432523,
     "user": {
      "displayName": "wanzi xiao",
      "userId": "16743510789226505921"
     },
     "user_tz": -720
    },
    "id": "j39p_ontIlfh",
    "outputId": "ce9c3f6d-339f-45c1-fd7c-b6de8aad411c"
   },
   "outputs": [
    {
     "name": "stdout",
     "output_type": "stream",
     "text": [
      "Evaluation Results for ResNet34 (Teacher)\n",
      "Accuracy :  0.6387\n",
      "Precision:  0.6427\n",
      "Recall   :  0.6387\n",
      "F1-Score :  0.6286\n",
      "Evaluation Results for ResNet18 (Student)\n",
      "Accuracy :  0.6126\n",
      "Precision:  0.6131\n",
      "Recall   :  0.6126\n",
      "F1-Score :  0.6070\n"
     ]
    }
   ],
   "source": [
    "from sklearn.metrics import accuracy_score, precision_score, recall_score, f1_score\n",
    "\n",
    "def evaluate_model(model, dataloader, device, model_name=\"Model\"):\n",
    "    model.eval()\n",
    "    y_true = []\n",
    "    y_pred = []\n",
    "    with torch.no_grad():\n",
    "        for X, y in dataloader:\n",
    "            X, y = X.to(device), y.to(device)\n",
    "            outputs = model(X)\n",
    "            preds = torch.argmax(outputs, dim=1)\n",
    "            y_true.extend(y.cpu().numpy())\n",
    "            y_pred.extend(preds.cpu().numpy())\n",
    "\n",
    "    acc = accuracy_score(y_true, y_pred)\n",
    "    prec = precision_score(y_true, y_pred, average='weighted', zero_division=0)\n",
    "    rec = recall_score(y_true, y_pred, average='weighted')\n",
    "    f1 = f1_score(y_true, y_pred, average='weighted')\n",
    "\n",
    "    print(f\"Evaluation Results for {model_name}\")\n",
    "    print(f\"Accuracy :  {acc:.4f}\")\n",
    "    print(f\"Precision:  {prec:.4f}\")\n",
    "    print(f\"Recall   :  {rec:.4f}\")\n",
    "    print(f\"F1-Score :  {f1:.4f}\")\n",
    "\n",
    "# Load best model checkpoints\n",
    "resnet34.load_state_dict(torch.load(\"resnet34_checkpoint.pkl\"))\n",
    "resnet18.load_state_dict(torch.load(\"resnet18_checkpoint.pkl\"))\n",
    "\n",
    "# Evaluate on validation set\n",
    "evaluate_model(resnet34, val_loader, device, model_name=\"ResNet34 (Teacher)\")\n",
    "evaluate_model(resnet18, val_loader, device, model_name=\"ResNet18 (Student)\")\n"
   ]
  },
  {
   "cell_type": "markdown",
   "id": "82d053d7",
   "metadata": {},
   "source": [
    "--- End of googlecolab_resnet34_resnet18.ipynb ---"
   ]
  },
  {
   "cell_type": "code",
   "execution_count": 1,
   "id": "8c399cfe-9c34-454a-a316-d84e00529da3",
   "metadata": {},
   "outputs": [
    {
     "name": "stdout",
     "output_type": "stream",
     "text": [
      "\n",
      "=== TRAIN SET ===\n",
      "african_elephant: 780 images\n",
      "airliner: 780 images\n",
      "banana: 780 images\n",
      "convertible_car: 780 images\n",
      "golden_retriever: 780 images\n",
      "goldfish: 780 images\n",
      "parachute: 780 images\n",
      "rugby: 780 images\n",
      "sunglasses: 780 images\n",
      "tiger_cat: 780 images\n",
      "\n",
      "=== VAL SET ===\n",
      "african_elephant: 260 images\n",
      "airliner: 260 images\n",
      "banana: 260 images\n",
      "convertible_car: 260 images\n",
      "golden_retriever: 260 images\n",
      "goldfish: 260 images\n",
      "parachute: 260 images\n",
      "rugby: 260 images\n",
      "sunglasses: 260 images\n",
      "tiger_cat: 260 images\n"
     ]
    }
   ],
   "source": [
    "import os\n",
    "\n",
    "# Set your actual full paths here\n",
    "train_path = r\"C:\\Users\\sherr\\NZMSA 2025-Phase-2 main data-science-3. Deep Learning Project_dataset_split_train\"\n",
    "val_path = r\"C:\\Users\\sherr\\NZMSA 2025-Phase-2 main data-science-3. Deep Learning Project_dataset_split_val\"\n",
    "\n",
    "# Define a dictionary to loop through both\n",
    "datasets = {'TRAIN': train_path, 'VAL': val_path}\n",
    "\n",
    "for name, path in datasets.items():\n",
    "    print(f\"\\n=== {name} SET ===\")\n",
    "    \n",
    "    for class_folder in sorted(os.listdir(path)):\n",
    "        class_path = os.path.join(path, class_folder)\n",
    "        if os.path.isdir(class_path):\n",
    "            num_images = len([\n",
    "                f for f in os.listdir(class_path)\n",
    "                if os.path.isfile(os.path.join(class_path, f))\n",
    "            ])\n",
    "            print(f\"{class_folder}: {num_images} images\")\n"
   ]
  },
  {
   "cell_type": "code",
   "execution_count": null,
   "id": "2d4c8f92-b794-4a73-896c-330dd5e3785a",
   "metadata": {},
   "outputs": [],
   "source": []
  },
  {
   "cell_type": "markdown",
   "id": "9fbc5dc7",
   "metadata": {},
   "source": [
    "--- End of Count_image.ipynb ---"
   ]
  }
 ],
 "metadata": {},
 "nbformat": 4,
 "nbformat_minor": 5
}
